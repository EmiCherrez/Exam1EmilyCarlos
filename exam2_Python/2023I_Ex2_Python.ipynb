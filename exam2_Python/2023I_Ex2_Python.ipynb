{
 "cells": [
  {
   "attachments": {},
   "cell_type": "markdown",
   "metadata": {
    "id": "CEZHzeOFsfj6"
   },
   "source": [
    "<img src=\"https://upload.wikimedia.org/wikipedia/commons/d/de/Logotipo_Ikiam.png\" width=500 height=240 />\n",
    "\n",
    "# EXAMEN PARCIAL PYTHON\n",
    "    \n",
    "## GBI6 - BIOINFORMÁTICA\n",
    "\n",
    "**Cherrez Montero, Emily Yessenia** \n",
    "\n",
    "**01-07-2023**"
   ]
  },
  {
   "attachments": {},
   "cell_type": "markdown",
   "metadata": {
    "id": "tGwhY7HlsfkC"
   },
   "source": [
    "## Ejercicio 0.1 [0.5 puntos]\n",
    "Realice cambios al cuaderno de jupyter: \n",
    "- Agregue el logo de la Universidad\n",
    "- Coloque sus datos personales \n",
    "- Use el terminal para crear las carpetas `results` y `data`.\n",
    "- Use el terminal y mueva `gstm.txt` que tiene un listado de accesiones de glutathione transferase a la carpeta `data`.\n"
   ]
  },
  {
   "attachments": {},
   "cell_type": "markdown",
   "metadata": {
    "id": "zXz2VQ92sfkE"
   },
   "source": [
    "## Ejercicio 1 [4.0 puntos]\n",
    "\n",
    "Cargue el módulo `popsimulate`, luego: \n",
    "\n",
    "1.1. explique lo que hace cada línea de la función `build_population`, simule un ejemplo y explique el resultado. \n",
    "\n",
    "1.2. explique lo que hace cada línea de la función `compute_frequencies`, simule un ejemplo y explique el resultado. \n",
    "\n",
    "1.3. explique lo que hace cada línea de la función `reproduce_population`, simule un ejemplo y explique el resultado. \n",
    "\n",
    "1.4. explique lo que hace cada línea de la función `simulate_drift`, simule un ejemplo y explique el resultado. "
   ]
  },
  {
   "cell_type": "code",
   "execution_count": 21,
   "metadata": {
    "id": "6nZuF5_ksfkF"
   },
   "outputs": [
    {
     "ename": "NameError",
     "evalue": "name 'scipy' is not defined",
     "output_type": "error",
     "traceback": [
      "\u001b[0;31m---------------------------------------------------------------------------\u001b[0m",
      "\u001b[0;31mNameError\u001b[0m                                 Traceback (most recent call last)",
      "Cell \u001b[0;32mIn[21], line 4\u001b[0m\n\u001b[1;32m      1\u001b[0m \u001b[39m# Escriba aquí su código para el ejercicio 1\u001b[39;00m\n\u001b[1;32m      2\u001b[0m \u001b[39mfrom\u001b[39;00m \u001b[39mpopsimulate\u001b[39;00m \u001b[39mimport\u001b[39;00m build_population\n\u001b[0;32m----> 4\u001b[0m population \u001b[39m=\u001b[39m popsimulate\u001b[39m.\u001b[39;49mbuild_population(\u001b[39m4\u001b[39;49m, \u001b[39m0.5\u001b[39;49m)\n\u001b[1;32m      5\u001b[0m \u001b[39mprint\u001b[39m(population)\n",
      "File \u001b[0;32m~/Documents/GitHub/Exam1EmilyCarlos/exam2_Python/popsimulate.py:6\u001b[0m, in \u001b[0;36mbuild_population\u001b[0;34m(N, p)\u001b[0m\n\u001b[1;32m      4\u001b[0m \u001b[39mfor\u001b[39;00m i \u001b[39min\u001b[39;00m \u001b[39mrange\u001b[39m(N):\n\u001b[1;32m      5\u001b[0m     allele1 \u001b[39m=\u001b[39m \u001b[39m\"\u001b[39m\u001b[39mA\u001b[39m\u001b[39m\"\u001b[39m\n\u001b[0;32m----> 6\u001b[0m     \u001b[39mif\u001b[39;00m scipy\u001b[39m.\u001b[39mrandom\u001b[39m.\u001b[39mrand() \u001b[39m>\u001b[39m p:\n\u001b[1;32m      7\u001b[0m         allele1 \u001b[39m=\u001b[39m \u001b[39m\"\u001b[39m\u001b[39ma\u001b[39m\u001b[39m\"\u001b[39m\n\u001b[1;32m      8\u001b[0m     allele2 \u001b[39m=\u001b[39m \u001b[39m\"\u001b[39m\u001b[39mA\u001b[39m\u001b[39m\"\u001b[39m\n",
      "\u001b[0;31mNameError\u001b[0m: name 'scipy' is not defined"
     ]
    }
   ],
   "source": [
    "# Escriba aquí su código para el ejercicio 1\n",
    "import popsimulate\n",
    "\n",
    "population = popsimulate.build_population(4, 0.5)\n",
    "print(population)"
   ]
  },
  {
   "attachments": {},
   "cell_type": "markdown",
   "metadata": {
    "id": "Hs7dXkwxsfkG"
   },
   "source": [
    "## Ejercicio 2 [5.0 puntos]\n",
    "\n",
    "Cree el modulo `glutransferase.py` y genere las siguientes funciones:\n",
    "\n",
    "2.1. `source` que se conecte al `NCBI` y `Nucleotide` para extraer el nombre del organismo fuente y que cuente la frecuencia de cada especie. Guarde el resultado en `results/source.csv`\n",
    "\n",
    "2.2. `sequences` que se conecte al `NCBI` y `Nucleotide` para extraer la secuencia de ADN, que se realice la traducción y separación de péptidos. Asegurarse que los péptidos empiezan en metionina. Luego calcule `molecular weight` e `instability index`. Genere un `joinplot` utilizando los valores de peso molecular e índice de estabilidad. Edite color, tamaño y tipo de puntos, asimismo etiquete adecuadamente el título y los ejes. Guarde los resultados en `results/glupeptides.csv` y `results/glupeptides.png`.\n",
    "\n",
    "**No escriba las funciones en este cuaderno de jupyter**\n",
    "\n",
    "2.3. Use la lista de accesiones en `data/gstm.txt`, cargue el módulo `glutransferase` y ejecute las dos funciones. "
   ]
  },
  {
   "cell_type": "code",
   "execution_count": 19,
   "metadata": {},
   "outputs": [
    {
     "ename": "NameError",
     "evalue": "name 'scipy' is not defined",
     "output_type": "error",
     "traceback": [
      "\u001b[0;31m---------------------------------------------------------------------------\u001b[0m",
      "\u001b[0;31mNameError\u001b[0m                                 Traceback (most recent call last)",
      "Cell \u001b[0;32mIn[19], line 5\u001b[0m\n\u001b[1;32m      2\u001b[0m \u001b[39mimport\u001b[39;00m \u001b[39mnumpy\u001b[39;00m\n\u001b[1;32m      3\u001b[0m \u001b[39mimport\u001b[39;00m \u001b[39mpopsimulate\u001b[39;00m\n\u001b[0;32m----> 5\u001b[0m population \u001b[39m=\u001b[39m popsimulate\u001b[39m.\u001b[39;49mbuild_population(\u001b[39m4\u001b[39;49m, \u001b[39m0.5\u001b[39;49m)\n\u001b[1;32m      6\u001b[0m \u001b[39mprint\u001b[39m(population)\n",
      "File \u001b[0;32m~/Documents/GitHub/Exam1EmilyCarlos/exam2_Python/popsimulate.py:6\u001b[0m, in \u001b[0;36mbuild_population\u001b[0;34m(N, p)\u001b[0m\n\u001b[1;32m      4\u001b[0m \u001b[39mfor\u001b[39;00m i \u001b[39min\u001b[39;00m \u001b[39mrange\u001b[39m(N):\n\u001b[1;32m      5\u001b[0m     allele1 \u001b[39m=\u001b[39m \u001b[39m\"\u001b[39m\u001b[39mA\u001b[39m\u001b[39m\"\u001b[39m\n\u001b[0;32m----> 6\u001b[0m     \u001b[39mif\u001b[39;00m scipy\u001b[39m.\u001b[39mrandom\u001b[39m.\u001b[39mrand() \u001b[39m>\u001b[39m p:\n\u001b[1;32m      7\u001b[0m         allele1 \u001b[39m=\u001b[39m \u001b[39m\"\u001b[39m\u001b[39ma\u001b[39m\u001b[39m\"\u001b[39m\n\u001b[1;32m      8\u001b[0m     allele2 \u001b[39m=\u001b[39m \u001b[39m\"\u001b[39m\u001b[39mA\u001b[39m\u001b[39m\"\u001b[39m\n",
      "\u001b[0;31mNameError\u001b[0m: name 'scipy' is not defined"
     ]
    }
   ],
   "source": [
    "# Escriba aquí su código para el ejercicio 2\n",
    "import popsimulate\n",
    "\n",
    "population = popsimulate.build_population(4, 0.5)\n",
    "print(population)"
   ]
  },
  {
   "attachments": {},
   "cell_type": "markdown",
   "metadata": {
    "id": "-MaHCuV8sfkP"
   },
   "source": [
    "## Ejercicio 0.2 [0.5 puntos]\n",
    "\n",
    "\n",
    "1. Cree un archivo ```Readme.md``` que debe tener lo siguiente:\n",
    "- Datos personales\n",
    "- Características del computador\n",
    "- Versión de Python/Anaconda y de cada uno de los módulos/paquetes y utilizados\n",
    "- Explicación de la data utilizada\n",
    "\n",
    "2. Realice al menos 1 control de la versión (commits) por cada ejercicio (del 1 al 5), con un mensaje que inicie como: \n",
    "\n",
    "```sh \n",
    "Carlitos Alimaña ha realizado el ejercicio 1.1  \n",
    "```\n",
    "```sh \n",
    "Carlitos Alimaña ha realizado el ejercicio 2.1\n",
    "```\n",
    "```sh \n",
    "...\n",
    "```\n"
   ]
  }
 ],
 "metadata": {
  "colab": {
   "provenance": []
  },
  "kernelspec": {
   "display_name": "Python 3 (ipykernel)",
   "language": "python",
   "name": "python3"
  },
  "language_info": {
   "codemirror_mode": {
    "name": "ipython",
    "version": 3
   },
   "file_extension": ".py",
   "mimetype": "text/x-python",
   "name": "python",
   "nbconvert_exporter": "python",
   "pygments_lexer": "ipython3",
   "version": "3.10.9"
  },
  "latex_envs": {
   "LaTeX_envs_menu_present": true,
   "autoclose": false,
   "autocomplete": true,
   "bibliofile": "biblio.bib",
   "cite_by": "apalike",
   "current_citInitial": 1,
   "eqLabelWithNumbers": true,
   "eqNumInitial": 1,
   "hotkeys": {
    "equation": "Ctrl-E",
    "itemize": "Ctrl-I"
   },
   "labels_anchors": false,
   "latex_user_defs": false,
   "report_style_numbering": false,
   "user_envs_cfg": false
  },
  "toc": {
   "base_numbering": 1,
   "nav_menu": {},
   "number_sections": true,
   "sideBar": false,
   "skip_h1_title": false,
   "title_cell": "Table of Contents",
   "title_sidebar": "Contents",
   "toc_cell": false,
   "toc_position": {
    "height": "1152.67px",
    "left": "41px",
    "top": "110px",
    "width": "253.458px"
   },
   "toc_section_display": true,
   "toc_window_display": false
  },
  "varInspector": {
   "cols": {
    "lenName": 16,
    "lenType": 16,
    "lenVar": 40
   },
   "kernels_config": {
    "python": {
     "delete_cmd_postfix": "",
     "delete_cmd_prefix": "del ",
     "library": "var_list.py",
     "varRefreshCmd": "print(var_dic_list())"
    },
    "r": {
     "delete_cmd_postfix": ") ",
     "delete_cmd_prefix": "rm(",
     "library": "var_list.r",
     "varRefreshCmd": "cat(var_dic_list()) "
    }
   },
   "types_to_exclude": [
    "module",
    "function",
    "builtin_function_or_method",
    "instance",
    "_Feature"
   ],
   "window_display": false
  }
 },
 "nbformat": 4,
 "nbformat_minor": 1
}
